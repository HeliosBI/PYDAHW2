{
 "cells": [
  {
   "cell_type": "markdown",
   "metadata": {},
   "source": [
    "**Задание 1**. Даны 2 строки: *long_phrase* и *short_phrase*. \n",
    "Напишите код, который проверяет действительно ли длинная фраза *long_phrase* длиннее короткой *short_phrase*. И выводит *True* или *False* в зависимости от результата сравнения."
   ]
  },
  {
   "cell_type": "code",
   "execution_count": null,
   "metadata": {},
   "outputs": [],
   "source": [
    "long_phrase = 'Насколько проще было бы писать программы, если бы не заказчики'\n",
    "short_phrase = '640Кб должно хватить для любых задач. Билл Гейтс (по легенде)'"
   ]
  },
  {
   "cell_type": "code",
   "execution_count": null,
   "metadata": {},
   "outputs": [],
   "source": [
    "print(len(long_phrase) > len(short_phrase))"
   ]
  },
  {
   "cell_type": "markdown",
   "metadata": {},
   "source": [
    "**Задание 2**. Дано значение объема файла в байтах (*в мегабайте 2^20 байт*). Напишите перевод этого значения в мегабайты в формате: \"*Объем файла равен 213.68Mb*\"."
   ]
  },
  {
   "cell_type": "code",
   "execution_count": 7,
   "metadata": {},
   "outputs": [
    {
     "name": "stdout",
     "output_type": "stream",
     "text": [
      "Введите размер файла в байтах 35000\n",
      "Размер файла равен  0.03 Mb\n"
     ]
    }
   ],
   "source": [
    "file_size_bytes = int(input('Введите размер файла в байтах '))\n",
    "bytes_to_megabytes = file_size_bytes / (2 ** 20)\n",
    "print('Размер файла равен ', round(bytes_to_megabytes,2), 'Mb')"
   ]
  },
  {
   "cell_type": "markdown",
   "metadata": {},
   "source": [
    "**Задание 3**. Разработать приложение для определения знака зодиака по дате рождения. Пример:\n",
    "\n",
    "Введите месяц: март\n",
    "\n",
    "Введите число: 6\n",
    "\n",
    "Вывод:\n",
    "Рыбы"
   ]
  },
  {
   "cell_type": "code",
   "execution_count": 25,
   "metadata": {},
   "outputs": [
    {
     "name": "stdout",
     "output_type": "stream",
     "text": [
      "Введите месяц:январь\n",
      "Введите число:5\n",
      "Козерог\n"
     ]
    }
   ],
   "source": [
    "birth_month = input('Введите месяц:')\n",
    "birth_date = int(input('Введите число:'))\n",
    "if birth_month == 'январь' and birth_date <= 20:\n",
    "    print('Козерог')\n",
    "elif birth_month == 'январь':\n",
    "    print('Водолей')\n",
    "elif birth_month == 'февраль' and birth_date <= 18:\n",
    "    print('Водолей')\n",
    "elif birth_month == 'февраль':\n",
    "    print('Рыбы')\n",
    "elif birth_month == 'март' and birth_date <= 20:\n",
    "    print('Рыбы')\n",
    "elif birth_month == 'март':\n",
    "    print('Овен')\n",
    "elif birth_month == 'апрель' and birth_date <= 19:\n",
    "    print('Овен')\n",
    "elif birth_month == 'апрель':\n",
    "    print('Телец')\n",
    "elif birth_month == 'май' and birth_date <= 20:\n",
    "    print('Телец')\n",
    "elif birth_month == 'май':\n",
    "    print('Близнецы')\n",
    "elif birth_month == 'июнь' and birth_date <= 21:\n",
    "    print('Близнецы')\n",
    "elif birth_month == 'июнь':\n",
    "    print('Рак')\n",
    "elif birth_month == 'июль' and birth_date <= 22:\n",
    "    print('Рак')\n",
    "elif birth_month == 'июль':\n",
    "    print('Лев')\n",
    "elif birth_month == 'август' and birth_date <= 22:\n",
    "    print('Лев')\n",
    "elif birth_month == 'август':\n",
    "    print('Дева')\n",
    "elif birth_month == 'сентябрь' and birth_date <= 22:\n",
    "    print('Дева')\n",
    "elif birth_month == 'сентябрь':\n",
    "    print('Весы')\n",
    "elif birth_month == 'октябрь' and birth_date <= 23:\n",
    "    print('Весы')\n",
    "elif birth_month == 'октябрь':\n",
    "    print('Скорпион')\n",
    "elif birth_month == 'ноябрь' and birth_date <= 22:\n",
    "    print('Скорпион')\n",
    "elif birth_month == 'ноябрь':\n",
    "    print('Стрелец')\n",
    "elif birth_month == 'декабрь' and birth_date <= 22:\n",
    "    print('Стрелец')\n",
    "elif birth_month == 'декабрь':\n",
    "    print('Козерог')"
   ]
  },
  {
   "cell_type": "markdown",
   "metadata": {},
   "source": [
    "**Задание 4**. Нужно разработать приложение для финансового планирования.\n",
    "Приложение учитывает сколько уходит на ипотеку, \"на жизнь\" и сколько нужно отложить на пенсию.\n",
    "Пользователь вводит:\n",
    "- заработанную плату в месяц.\n",
    "- сколько процентов от ЗП уходит на ипотеку.\n",
    "- сколько процентов от ЗП уходит \"на жизнь\".\n",
    "- сколько раз приходит премия в год.\n",
    "\n",
    "Остальная часть заработанной платы откладывается на пенсию.\n",
    "\n",
    "Также пользователю приходит премия в размере зарплаты, от которой половина уходит на отпуск, а вторая половина откладывается.\n",
    "\n",
    "Программа должна учитывать сколько премий было в год.\n",
    "\n",
    "Нужно вывести сколько денег тратит пользователь на ипотеку и сколько он накопит за год.\n",
    "\n",
    "Пример:\n",
    "\n",
    "Введите заработанную плату в месяц: 100000\n",
    "\n",
    "Введите сколько процентов уходит на ипотеку: 30\n",
    "\n",
    "Введите сколько процентов уходит на жизнь: 50\n",
    "\n",
    "Введите количество премий за год: 2\n",
    "\n",
    "Вывод:\n",
    "На ипотеку было потрачено: 360000 рублей\n",
    "Было накоплено: 340000 рублей"
   ]
  },
  {
   "cell_type": "code",
   "execution_count": null,
   "metadata": {},
   "outputs": [],
   "source": []
  }
 ],
 "metadata": {
  "kernelspec": {
   "display_name": "Python 3",
   "language": "python",
   "name": "python3"
  },
  "language_info": {
   "codemirror_mode": {
    "name": "ipython",
    "version": 3
   },
   "file_extension": ".py",
   "mimetype": "text/x-python",
   "name": "python",
   "nbconvert_exporter": "python",
   "pygments_lexer": "ipython3",
   "version": "3.7.4"
  }
 },
 "nbformat": 4,
 "nbformat_minor": 2
}
